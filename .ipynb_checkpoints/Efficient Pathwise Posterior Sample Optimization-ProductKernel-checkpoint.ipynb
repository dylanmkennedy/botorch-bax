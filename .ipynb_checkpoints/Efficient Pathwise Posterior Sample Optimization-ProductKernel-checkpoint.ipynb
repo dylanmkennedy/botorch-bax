{
 "cells": [
  {
   "cell_type": "markdown",
   "id": "9fd8c985",
   "metadata": {},
   "source": [
    "# Efficient pathwise posterior sample optimization - Emittance"
   ]
  },
  {
   "cell_type": "code",
   "execution_count": 1,
   "id": "697d52a0",
   "metadata": {},
   "outputs": [],
   "source": [
    "import torch\n",
    "import gpytorch\n",
    "import botorch\n",
    "from matplotlib import pyplot as plt\n",
    "\n",
    "from emitutils import (toy_beam_size_squared_nd, fit_gp_model_emittance, sum_samplewise_emittance_flat_X_wrapper_for_scipy, \n",
    "                       post_emit, sum_samplewise_emittance_flat_X_wrapper_for_torch)\n",
    "\n",
    "from samplingutils import draw_product_kernel_post_paths\n",
    "from utils import unif_random_sample_domain\n",
    "from utils import build_mesh_domain"
   ]
  },
  {
   "cell_type": "code",
   "execution_count": 2,
   "id": "95df5360",
   "metadata": {},
   "outputs": [
    {
     "name": "stderr",
     "output_type": "stream",
     "text": [
      "C:\\Users\\Dylan\\SLAC\\botorch-bax\\botorch\\models\\gpytorch.py:113: UserWarning: The model inputs are of type torch.float32. It is strongly recommended to use double precision in BoTorch, as this improves both precision and stability and can help avoid numerical errors. See https://github.com/pytorch/botorch/discussions/1444\n",
      "  warnings.warn(\n"
     ]
    }
   ],
   "source": [
    "\n",
    "domain = torch.tensor([[-2,2], [-35, 5]]).double()\n",
    "ndim = domain.shape[0]\n",
    "# train_x = build_mesh_domain(3, domain)[0]\n",
    "# train_x = unif_random_sample_domain(15, domain).double()\n",
    "train_x = unif_random_sample_domain(35, domain).double()\n",
    "train_y = toy_beam_size_squared_nd(train_x).double()*1e6\n",
    "\n",
    "\n",
    "\n",
    "model = fit_gp_model_emittance(train_x, train_y)\n",
    "\n",
    "\n",
    "n_samples = 5\n",
    "post_paths = draw_product_kernel_post_paths(model, n_samples=n_samples)\n",
    "\n",
    "\n"
   ]
  },
  {
   "cell_type": "code",
   "execution_count": 3,
   "id": "f72a57e4",
   "metadata": {},
   "outputs": [],
   "source": [
    "X_meas = torch.linspace(*domain[-1], 3)\n"
   ]
  },
  {
   "cell_type": "code",
   "execution_count": 4,
   "id": "69f4ac27",
   "metadata": {},
   "outputs": [
    {
     "data": {
      "text/plain": [
       "tensor([[-0.3061],\n",
       "        [ 0.9645],\n",
       "        [-1.9215],\n",
       "        [-0.8178],\n",
       "        [-1.8757]], dtype=torch.float64)"
      ]
     },
     "execution_count": 4,
     "metadata": {},
     "output_type": "execute_result"
    }
   ],
   "source": [
    "x_inits = unif_random_sample_domain(n_samples, domain[:-1]).double()\n",
    "x_inits"
   ]
  },
  {
   "cell_type": "code",
   "execution_count": 5,
   "id": "82c0fd46",
   "metadata": {},
   "outputs": [
    {
     "data": {
      "text/plain": [
       "6"
      ]
     },
     "execution_count": 5,
     "metadata": {},
     "output_type": "execute_result"
    }
   ],
   "source": [
    "sum(x_inits.size())"
   ]
  },
  {
   "cell_type": "code",
   "execution_count": 6,
   "id": "05e848c9",
   "metadata": {},
   "outputs": [
    {
     "name": "stdout",
     "output_type": "stream",
     "text": [
      "ys.shape = torch.Size([5, 15])\n",
      "ys.shape = torch.Size([5, 15])\n",
      "ys.shape = torch.Size([5, 15])\n",
      "ys.shape = torch.Size([5, 15])\n",
      "ys.shape = torch.Size([5, 15])\n",
      "ys.shape = torch.Size([5, 15])\n",
      "ys.shape = torch.Size([5, 15])\n",
      "ys.shape = torch.Size([5, 15])\n",
      "ys.shape = torch.Size([5, 15])\n",
      "ys.shape = torch.Size([5, 15])\n",
      "ys.shape = torch.Size([5, 15])\n",
      "ys.shape = torch.Size([5, 15])\n",
      "ys.shape = torch.Size([5, 15])\n",
      "ys.shape = torch.Size([5, 15])\n",
      "ys.shape = torch.Size([5, 15])\n",
      "ys.shape = torch.Size([5, 15])\n",
      "ys.shape = torch.Size([5, 15])\n",
      "ys.shape = torch.Size([5, 15])\n",
      "ys.shape = torch.Size([5, 15])\n",
      "ys.shape = torch.Size([5, 15])\n",
      "ys.shape = torch.Size([5, 15])\n",
      "ys.shape = torch.Size([5, 15])\n",
      "ys.shape = torch.Size([5, 15])\n",
      "ys.shape = torch.Size([5, 15])\n",
      "ys.shape = torch.Size([5, 15])\n",
      "ys.shape = torch.Size([5, 15])\n",
      "ys.shape = torch.Size([5, 15])\n",
      "ys.shape = torch.Size([5, 15])\n",
      "ys.shape = torch.Size([5, 15])\n",
      "ys.shape = torch.Size([5, 15])\n",
      "ys.shape = torch.Size([5, 15])\n",
      "ys.shape = torch.Size([5, 15])\n",
      "ys.shape = torch.Size([5, 15])\n",
      "ys.shape = torch.Size([5, 15])\n",
      "ys.shape = torch.Size([5, 15])\n",
      "ys.shape = torch.Size([5, 15])\n",
      "ys.shape = torch.Size([5, 15])\n",
      "ys.shape = torch.Size([5, 15])\n",
      "ys.shape = torch.Size([5, 15])\n",
      "ys.shape = torch.Size([5, 15])\n",
      "ys.shape = torch.Size([5, 15])\n",
      "ys.shape = torch.Size([5, 15])\n",
      "ys.shape = torch.Size([5, 15])\n",
      "ys.shape = torch.Size([5, 15])\n",
      "ys.shape = torch.Size([5, 15])\n",
      "ys.shape = torch.Size([5, 15])\n",
      "ys.shape = torch.Size([5, 15])\n",
      "ys.shape = torch.Size([5, 15])\n",
      "ys.shape = torch.Size([5, 15])\n",
      "ys.shape = torch.Size([5, 15])\n",
      "ys.shape = torch.Size([5, 15])\n",
      "ys.shape = torch.Size([5, 15])\n",
      "ys.shape = torch.Size([5, 15])\n",
      "ys.shape = torch.Size([5, 15])\n",
      "ys.shape = torch.Size([5, 15])\n",
      "ys.shape = torch.Size([5, 15])\n",
      "ys.shape = torch.Size([5, 15])\n",
      "ys.shape = torch.Size([5, 15])\n",
      "ys.shape = torch.Size([5, 15])\n",
      "ys.shape = torch.Size([5, 15])\n",
      "ys.shape = torch.Size([5, 15])\n",
      "ys.shape = torch.Size([5, 15])\n",
      "ys.shape = torch.Size([5, 15])\n",
      "ys.shape = torch.Size([5, 15])\n",
      "ys.shape = torch.Size([5, 15])\n",
      "ys.shape = torch.Size([5, 15])\n",
      "ys.shape = torch.Size([5, 15])\n",
      "ys.shape = torch.Size([5, 15])\n",
      "ys.shape = torch.Size([5, 15])\n",
      "ys.shape = torch.Size([5, 15])\n",
      "ys.shape = torch.Size([5, 15])\n",
      "ys.shape = torch.Size([5, 15])\n",
      "ys.shape = torch.Size([5, 15])\n",
      "ys.shape = torch.Size([5, 15])\n",
      "ys.shape = torch.Size([5, 15])\n",
      "ys.shape = torch.Size([5, 15])\n",
      "ys.shape = torch.Size([5, 15])\n",
      "ys.shape = torch.Size([5, 15])\n",
      "ys.shape = torch.Size([5, 15])\n",
      "ys.shape = torch.Size([5, 15])\n",
      "ys.shape = torch.Size([5, 15])\n",
      "ys.shape = torch.Size([5, 15])\n",
      "ys.shape = torch.Size([5, 15])\n",
      "ys.shape = torch.Size([5, 15])\n",
      "ys.shape = torch.Size([5, 15])\n",
      "ys.shape = torch.Size([5, 15])\n",
      "ys.shape = torch.Size([5, 15])\n",
      "ys.shape = torch.Size([5, 15])\n",
      "ys.shape = torch.Size([5, 15])\n",
      "ys.shape = torch.Size([5, 15])\n",
      "ys.shape = torch.Size([5, 15])\n",
      "ys.shape = torch.Size([5, 15])\n",
      "ys.shape = torch.Size([5, 15])\n",
      "ys.shape = torch.Size([5, 15])\n",
      "ys.shape = torch.Size([5, 15])\n",
      "ys.shape = torch.Size([5, 15])\n",
      "ys.shape = torch.Size([5, 15])\n",
      "ys.shape = torch.Size([5, 15])\n",
      "ys.shape = torch.Size([5, 15])\n",
      "ys.shape = torch.Size([5, 15])\n",
      "ys.shape = torch.Size([5, 15])\n",
      "ys.shape = torch.Size([5, 15])\n",
      "ys.shape = torch.Size([5, 15])\n",
      "ys.shape = torch.Size([5, 15])\n",
      "ys.shape = torch.Size([5, 15])\n",
      "ys.shape = torch.Size([5, 15])\n",
      "ys.shape = torch.Size([5, 15])\n",
      "ys.shape = torch.Size([5, 15])\n",
      "ys.shape = torch.Size([5, 15])\n",
      "ys.shape = torch.Size([5, 15])\n",
      "ys.shape = torch.Size([5, 15])\n",
      "ys.shape = torch.Size([5, 15])\n",
      "ys.shape = torch.Size([5, 15])\n",
      "ys.shape = torch.Size([5, 15])\n",
      "ys.shape = torch.Size([5, 15])\n",
      "ys.shape = torch.Size([5, 15])\n",
      "ys.shape = torch.Size([5, 15])\n",
      "ys.shape = torch.Size([5, 15])\n",
      "ys.shape = torch.Size([5, 15])\n",
      "ys.shape = torch.Size([5, 15])\n",
      "ys.shape = torch.Size([5, 15])\n",
      "ys.shape = torch.Size([5, 15])\n",
      "ys.shape = torch.Size([5, 15])\n",
      "ys.shape = torch.Size([5, 15])\n",
      "ys.shape = torch.Size([5, 15])\n",
      "ys.shape = torch.Size([5, 15])\n",
      "ys.shape = torch.Size([5, 15])\n",
      "ys.shape = torch.Size([5, 15])\n",
      "ys.shape = torch.Size([5, 15])\n",
      "ys.shape = torch.Size([5, 15])\n",
      "ys.shape = torch.Size([5, 15])\n",
      "ys.shape = torch.Size([5, 15])\n",
      "ys.shape = torch.Size([5, 15])\n",
      "ys.shape = torch.Size([5, 15])\n",
      "ys.shape = torch.Size([5, 15])\n",
      "ys.shape = torch.Size([5, 15])\n",
      "ys.shape = torch.Size([5, 15])\n",
      "ys.shape = torch.Size([5, 15])\n",
      "ys.shape = torch.Size([5, 15])\n",
      "ys.shape = torch.Size([5, 15])\n",
      "ys.shape = torch.Size([5, 15])\n",
      "ys.shape = torch.Size([5, 15])\n",
      "ys.shape = torch.Size([5, 15])\n",
      "ys.shape = torch.Size([5, 15])\n",
      "ys.shape = torch.Size([5, 15])\n",
      "ys.shape = torch.Size([5, 15])\n",
      "ys.shape = torch.Size([5, 15])\n",
      "ys.shape = torch.Size([5, 15])\n",
      "ys.shape = torch.Size([5, 15])\n",
      "ys.shape = torch.Size([5, 15])\n",
      "ys.shape = torch.Size([5, 15])\n",
      "ys.shape = torch.Size([5, 15])\n",
      "ys.shape = torch.Size([5, 15])\n",
      "ys.shape = torch.Size([5, 15])\n",
      "ys.shape = torch.Size([5, 15])\n",
      "ys.shape = torch.Size([5, 15])\n",
      "ys.shape = torch.Size([5, 15])\n",
      "ys.shape = torch.Size([5, 15])\n",
      "ys.shape = torch.Size([5, 15])\n",
      "ys.shape = torch.Size([5, 15])\n",
      "ys.shape = torch.Size([5, 15])\n",
      "ys.shape = torch.Size([5, 15])\n"
     ]
    }
   ],
   "source": [
    "from scipy.optimize import minimize\n",
    "\n",
    "target_func_for_scipy = sum_samplewise_emittance_flat_X_wrapper_for_scipy(post_paths, n_samples, X_meas)\n",
    "\n",
    "\n",
    "# ################################\n",
    "# #with jacobian from torch (NOTE: backward doesn't work for the target function due to shape problems!)\n",
    "\n",
    "# target_func_for_torch = sum_samplewise_emittance_flat_X_wrapper_for_torch(post_paths, n_samples, X_meas)\n",
    "\n",
    "# def wrap_jac_for_scipy(target_func_for_torch):\n",
    "#     def wrapped_func(x):\n",
    "#         return torch.autograd.functional.jacobian(target_func_for_torch, torch.tensor(x)).detach().numpy()\n",
    "#     return wrapped_func\n",
    "\n",
    "# target_func_jac_callable = wrap_jac_for_scipy(target_func_for_torch)\n",
    "\n",
    "# res = minimize(target_func_for_scipy, x_inits.flatten().detach().numpy(), bounds = domain[:-1].repeat(n_samples,1), \n",
    "#                jac = target_func_jac_callable, tol=1e-6, options = {'eps': 1e-03})\n",
    "# ################################\n",
    "#without jacobian from torch\n",
    "\n",
    "res = minimize(target_func_for_scipy, x_inits.flatten().detach().numpy(), bounds = domain[:-1].repeat(n_samples,1), \n",
    "               tol=1e-6, options = {'eps': 1e-03})\n",
    "\n",
    "# ################################\n",
    "\n",
    "x_stars_flat = res.x\n",
    "\n",
    "x_stars = x_stars_flat.reshape(n_samples,-1)"
   ]
  },
  {
   "cell_type": "code",
   "execution_count": 7,
   "id": "e64185b2",
   "metadata": {},
   "outputs": [],
   "source": [
    "# from torchmin import minimize\n",
    "\n",
    "# target_func_for_torch = sum_samplewise_emittance_flat_X_wrapper_for_torch(post_paths, n_samples, X_meas)\n",
    "# res = minimize(target_func_for_torch, x_inits.flatten(), method = 'bfgs', tol=1e-6)\n",
    "\n",
    "\n",
    "# x_stars_flat = res.x\n",
    "\n",
    "# x_stars = x_stars_flat.reshape(n_samples,-1)"
   ]
  },
  {
   "cell_type": "code",
   "execution_count": 8,
   "id": "61afc784",
   "metadata": {},
   "outputs": [],
   "source": [
    "# from autograd_minimize import minimize\n",
    "\n",
    "# X_tuning_init = x_inits.flatten().detach().numpy()\n",
    "\n",
    "# target_func_for_torch = sum_samplewise_emittance_flat_X_wrapper_for_torch(post_paths, n_samples, X_meas)\n",
    "# res = minimize(target_func_for_torch, X_tuning_init, backend='torch', tol=1e-6)\n",
    "\n",
    "\n",
    "# x_stars_flat = res.x\n",
    "\n",
    "# x_stars = x_stars_flat.reshape(n_samples,-1)"
   ]
  },
  {
   "cell_type": "code",
   "execution_count": 9,
   "id": "a7b6fb4d",
   "metadata": {},
   "outputs": [
    {
     "data": {
      "text/plain": [
       "array([[ 0.0064132 ],\n",
       "       [-0.00190531],\n",
       "       [ 0.00159407],\n",
       "       [-0.00864975],\n",
       "       [-0.01105324]])"
      ]
     },
     "execution_count": 9,
     "metadata": {},
     "output_type": "execute_result"
    }
   ],
   "source": [
    "x_stars"
   ]
  },
  {
   "cell_type": "code",
   "execution_count": 10,
   "id": "9a29686f",
   "metadata": {},
   "outputs": [
    {
     "name": "stderr",
     "output_type": "stream",
     "text": [
      "No artists with labels found to put in legend.  Note that artists whose label start with an underscore are ignored when legend() is called with no argument.\n"
     ]
    },
    {
     "data": {
      "text/plain": [
       "Text(0.05, 0.95, 'sample 0')"
      ]
     },
     "execution_count": 10,
     "metadata": {},
     "output_type": "execute_result"
    },
    {
     "data": {
      "image/png": "[encoded data removed]",
      "text/plain": [
       "<Figure size 640x480 with 1 Axes>"
      ]
     },
     "metadata": {},
     "output_type": "display_data"
    }
   ],
   "source": [
    "sid = 0\n",
    "fig, ax = plt.subplots(1)\n",
    "\n",
    "nsteps_mesh = 100\n",
    "xs_mesh_n_by_d, x_mesh_tuple = build_mesh_domain(nsteps_mesh, domain)\n",
    "x0mesh, x1mesh = x_mesh_tuple\n",
    "ys_mesh = post_paths(xs_mesh_n_by_d).reshape(n_samples,nsteps_mesh,nsteps_mesh)\n",
    "ax.pcolor(x0mesh.detach().numpy(), x1mesh.detach().numpy(), ys_mesh[sid].detach().numpy())\n",
    "# ax.scatter(*xs_star[sid], marker='x', s=120, color='r', label='scipy min')\n",
    "\n",
    "ax.set_title('Pathwise Posterior Sample Optimization')\n",
    "ax.set_ylabel('$x_2$')\n",
    "ax.set_xlabel('$x_1$')\n",
    "ax.legend()\n",
    "\n",
    "textstr = 'sample ' + str(sid)\n",
    "\n",
    "\n",
    "# these are matplotlib.patch.Patch properties\n",
    "props = dict(boxstyle='round', facecolor='wheat', alpha=0.5)\n",
    "\n",
    "# place a text box in upper left in axes coords\n",
    "ax.text(0.05, 0.95, textstr, transform=ax.transAxes, fontsize=14,\n",
    "        verticalalignment='top', horizontalalignment = 'left', bbox=props)"
   ]
  },
  {
   "cell_type": "code",
   "execution_count": null,
   "id": "3a3191c9",
   "metadata": {},
   "outputs": [],
   "source": []
  },
  {
   "cell_type": "code",
   "execution_count": 11,
   "id": "51cf2fb2",
   "metadata": {},
   "outputs": [
    {
     "name": "stdout",
     "output_type": "stream",
     "text": [
      "ys.shape = torch.Size([5, 300])\n"
     ]
    }
   ],
   "source": [
    "X_tuning_scan = torch.linspace(*domain[0],100)\n",
    "X_tuning_scan = X_tuning_scan.reshape(-1,1)\n",
    "emits = post_emit(post_paths, X_tuning_scan, X_meas, samplewise=False, squared=True)"
   ]
  },
  {
   "cell_type": "code",
   "execution_count": 12,
   "id": "a985520c",
   "metadata": {},
   "outputs": [
    {
     "name": "stdout",
     "output_type": "stream",
     "text": [
      "ys.shape = torch.Size([5, 15])\n"
     ]
    },
    {
     "data": {
      "text/plain": [
       "<matplotlib.legend.Legend at 0x13b842872e0>"
      ]
     },
     "execution_count": 12,
     "metadata": {},
     "output_type": "execute_result"
    },
    {
     "data": {
      "image/png": "[encoded data removed]",
      "text/plain": [
       "<Figure size 640x480 with 1 Axes>"
      ]
     },
     "metadata": {},
     "output_type": "display_data"
    }
   ],
   "source": [
    "emit_stars = post_emit(post_paths, torch.tensor(x_stars), X_meas, samplewise=True, squared=True)\n",
    "\n",
    "p = plt.plot(X_tuning_scan.flatten(), emits[0].detach().numpy(), label='post. sample')\n",
    "x_star = x_stars[0]\n",
    "emit_star = emit_stars[0]\n",
    "plt.scatter([x_star[0]],[emit_star.detach().numpy()], c=p[-1].get_color(), label='scipy min')\n",
    "\n",
    "for i in range(1, n_samples):\n",
    "    p = plt.plot(X_tuning_scan.flatten(), emits[i].detach().numpy())\n",
    "    x_star = x_stars[i]\n",
    "    emit_star = emit_stars[i]\n",
    "    plt.scatter([x_star[0]],[emit_star.detach().numpy()], c=p[-1].get_color())\n",
    "\n",
    "plt.title('Pathwise Sample $\\epsilon^2$ Optimization - 2d')\n",
    "plt.xlabel('$x_1$')\n",
    "plt.ylabel('$\\epsilon^{2}$', fontsize=14)\n",
    "plt.legend()"
   ]
  },
  {
   "cell_type": "code",
   "execution_count": 13,
   "id": "ee5d29d5",
   "metadata": {},
   "outputs": [],
   "source": [
    "from algorithms import ScipyMinimizeEmittance, GridMinimizeEmittance"
   ]
  },
  {
   "cell_type": "code",
   "execution_count": 14,
   "id": "2f6a7990",
   "metadata": {},
   "outputs": [],
   "source": [
    "algo = ScipyMinimizeEmittance(domain=domain, n_samples=5)\n",
    "# algo = GridMinimizeEmittance(domain=domain, n_samples=5, n_steps_tuning_params=10, squared=True)"
   ]
  },
  {
   "cell_type": "code",
   "execution_count": 15,
   "id": "5a205f1a",
   "metadata": {},
   "outputs": [
    {
     "name": "stdout",
     "output_type": "stream",
     "text": [
      "ys.shape = torch.Size([5, 15])\n",
      "ys.shape = torch.Size([5, 15])\n",
      "ys.shape = torch.Size([5, 15])\n",
      "ys.shape = torch.Size([5, 15])\n",
      "ys.shape = torch.Size([5, 15])\n",
      "ys.shape = torch.Size([5, 15])\n",
      "ys.shape = torch.Size([5, 15])\n",
      "ys.shape = torch.Size([5, 15])\n",
      "ys.shape = torch.Size([5, 15])\n",
      "ys.shape = torch.Size([5, 15])\n",
      "ys.shape = torch.Size([5, 15])\n",
      "ys.shape = torch.Size([5, 15])\n",
      "ys.shape = torch.Size([5, 15])\n",
      "ys.shape = torch.Size([5, 15])\n",
      "ys.shape = torch.Size([5, 15])\n",
      "ys.shape = torch.Size([5, 15])\n",
      "ys.shape = torch.Size([5, 15])\n",
      "ys.shape = torch.Size([5, 15])\n",
      "ys.shape = torch.Size([5, 15])\n",
      "ys.shape = torch.Size([5, 15])\n",
      "ys.shape = torch.Size([5, 15])\n",
      "ys.shape = torch.Size([5, 15])\n",
      "ys.shape = torch.Size([5, 15])\n",
      "ys.shape = torch.Size([5, 15])\n",
      "ys.shape = torch.Size([5, 15])\n",
      "ys.shape = torch.Size([5, 15])\n",
      "ys.shape = torch.Size([5, 15])\n",
      "ys.shape = torch.Size([5, 15])\n",
      "ys.shape = torch.Size([5, 15])\n",
      "ys.shape = torch.Size([5, 15])\n",
      "ys.shape = torch.Size([5, 15])\n",
      "ys.shape = torch.Size([5, 15])\n",
      "ys.shape = torch.Size([5, 15])\n",
      "ys.shape = torch.Size([5, 15])\n",
      "ys.shape = torch.Size([5, 15])\n",
      "ys.shape = torch.Size([5, 15])\n",
      "ys.shape = torch.Size([5, 15])\n",
      "ys.shape = torch.Size([5, 15])\n",
      "ys.shape = torch.Size([5, 15])\n",
      "ys.shape = torch.Size([5, 15])\n",
      "ys.shape = torch.Size([5, 15])\n",
      "ys.shape = torch.Size([5, 15])\n",
      "ys.shape = torch.Size([5, 15])\n",
      "ys.shape = torch.Size([5, 15])\n",
      "ys.shape = torch.Size([5, 15])\n",
      "ys.shape = torch.Size([5, 15])\n",
      "ys.shape = torch.Size([5, 15])\n",
      "ys.shape = torch.Size([5, 15])\n"
     ]
    }
   ],
   "source": [
    "xs_exe, ys_exe = algo.get_exe_paths(model)"
   ]
  },
  {
   "cell_type": "code",
   "execution_count": 16,
   "id": "f07c6dfb",
   "metadata": {},
   "outputs": [
    {
     "data": {
      "text/plain": [
       "torch.Size([5, 3, 2])"
      ]
     },
     "execution_count": 16,
     "metadata": {},
     "output_type": "execute_result"
    }
   ],
   "source": [
    "xs_exe.shape"
   ]
  },
  {
   "cell_type": "code",
   "execution_count": 17,
   "id": "36b9d974",
   "metadata": {},
   "outputs": [
    {
     "data": {
      "text/plain": [
       "torch.Size([5, 3, 1])"
      ]
     },
     "execution_count": 17,
     "metadata": {},
     "output_type": "execute_result"
    }
   ],
   "source": [
    "ys_exe.shape"
   ]
  },
  {
   "cell_type": "code",
   "execution_count": 18,
   "id": "27d9871c",
   "metadata": {},
   "outputs": [
    {
     "data": {
      "text/plain": [
       "tensor([[[-6.9304e-03, -3.5000e+01],\n",
       "         [-6.9304e-03, -1.5000e+01],\n",
       "         [-6.9304e-03,  5.0000e+00]],\n",
       "\n",
       "        [[ 1.2192e-02, -3.5000e+01],\n",
       "         [ 1.2192e-02, -1.5000e+01],\n",
       "         [ 1.2192e-02,  5.0000e+00]],\n",
       "\n",
       "        [[-1.5487e-03, -3.5000e+01],\n",
       "         [-1.5487e-03, -1.5000e+01],\n",
       "         [-1.5487e-03,  5.0000e+00]],\n",
       "\n",
       "        [[ 5.7083e-03, -3.5000e+01],\n",
       "         [ 5.7083e-03, -1.5000e+01],\n",
       "         [ 5.7083e-03,  5.0000e+00]],\n",
       "\n",
       "        [[-2.8145e-02, -3.5000e+01],\n",
       "         [-2.8145e-02, -1.5000e+01],\n",
       "         [-2.8145e-02,  5.0000e+00]]], dtype=torch.float64)"
      ]
     },
     "execution_count": 18,
     "metadata": {},
     "output_type": "execute_result"
    }
   ],
   "source": [
    "xs_exe"
   ]
  },
  {
   "cell_type": "code",
   "execution_count": 19,
   "id": "6e806caa",
   "metadata": {},
   "outputs": [
    {
     "data": {
      "text/plain": [
       "tensor([[[13.1852],\n",
       "         [ 1.2558],\n",
       "         [13.2229]],\n",
       "\n",
       "        [[13.3744],\n",
       "         [ 1.1958],\n",
       "         [13.3972]],\n",
       "\n",
       "        [[13.3198],\n",
       "         [ 1.2151],\n",
       "         [13.3947]],\n",
       "\n",
       "        [[13.1586],\n",
       "         [ 1.2155],\n",
       "         [13.0291]],\n",
       "\n",
       "        [[13.2435],\n",
       "         [ 1.2231],\n",
       "         [13.1550]]], dtype=torch.float64, grad_fn=<ReshapeAliasBackward0>)"
      ]
     },
     "execution_count": 19,
     "metadata": {},
     "output_type": "execute_result"
    }
   ],
   "source": [
    "ys_exe"
   ]
  },
  {
   "cell_type": "code",
   "execution_count": null,
   "id": "44fb6883",
   "metadata": {},
   "outputs": [],
   "source": []
  },
  {
   "cell_type": "code",
   "execution_count": 20,
   "id": "065ee6a6",
   "metadata": {},
   "outputs": [],
   "source": [
    "from emitutils import EmittanceModule\n",
    "from botorch.generation.gen import gen_candidates_scipy\n",
    "from botorch.optim.initializers import gen_batch_initial_conditions"
   ]
  },
  {
   "cell_type": "code",
   "execution_count": 21,
   "id": "cbe9e7bc",
   "metadata": {},
   "outputs": [
    {
     "name": "stdout",
     "output_type": "stream",
     "text": [
      "torch.Size([500, 1, 5])\n",
      "X_meas_repeated.shape = torch.Size([500, 15, 1])\n",
      "xs_tuning.shape = torch.Size([500, 15, 1])\n",
      "xs.shape = torch.Size([500, 15, 2])\n"
     ]
    },
    {
     "ename": "RuntimeError",
     "evalue": "Shape mismatch: objects cannot be broadcast to a single shape",
     "output_type": "error",
     "traceback": [
      "\u001b[1;31m---------------------------------------------------------------------------\u001b[0m",
      "\u001b[1;31mRuntimeError\u001b[0m                              Traceback (most recent call last)",
      "\u001b[1;32m~\\AppData\\Local\\Temp\\ipykernel_21964\\2248771052.py\u001b[0m in \u001b[0;36m<cell line: 5>\u001b[1;34m()\u001b[0m\n\u001b[0;32m      3\u001b[0m \u001b[0memitmodule\u001b[0m \u001b[1;33m=\u001b[0m \u001b[0mEmittanceModule\u001b[0m\u001b[1;33m(\u001b[0m\u001b[0mpost_paths\u001b[0m\u001b[1;33m,\u001b[0m \u001b[0mn_samples\u001b[0m\u001b[1;33m,\u001b[0m \u001b[0mX_meas\u001b[0m\u001b[1;33m)\u001b[0m\u001b[1;33m\u001b[0m\u001b[1;33m\u001b[0m\u001b[0m\n\u001b[0;32m      4\u001b[0m \u001b[0mbounds\u001b[0m \u001b[1;33m=\u001b[0m \u001b[0mdomain\u001b[0m\u001b[1;33m[\u001b[0m\u001b[1;33m:\u001b[0m\u001b[1;33m-\u001b[0m\u001b[1;36m1\u001b[0m\u001b[1;33m]\u001b[0m\u001b[1;33m.\u001b[0m\u001b[0mrepeat\u001b[0m\u001b[1;33m(\u001b[0m\u001b[0mn_samples\u001b[0m\u001b[1;33m,\u001b[0m\u001b[1;36m1\u001b[0m\u001b[1;33m)\u001b[0m\u001b[1;33m.\u001b[0m\u001b[0mT\u001b[0m\u001b[1;33m\u001b[0m\u001b[1;33m\u001b[0m\u001b[0m\n\u001b[1;32m----> 5\u001b[1;33m Xinit = gen_batch_initial_conditions(\n\u001b[0m\u001b[0;32m      6\u001b[0m         \u001b[0memitmodule\u001b[0m\u001b[1;33m,\u001b[0m \u001b[0mbounds\u001b[0m\u001b[1;33m,\u001b[0m \u001b[0mq\u001b[0m\u001b[1;33m=\u001b[0m\u001b[1;36m1\u001b[0m\u001b[1;33m,\u001b[0m \u001b[0mnum_restarts\u001b[0m\u001b[1;33m=\u001b[0m\u001b[1;36m25\u001b[0m\u001b[1;33m,\u001b[0m \u001b[0mraw_samples\u001b[0m\u001b[1;33m=\u001b[0m\u001b[1;36m500\u001b[0m\u001b[1;33m\u001b[0m\u001b[1;33m\u001b[0m\u001b[0m\n\u001b[0;32m      7\u001b[0m  )\n",
      "\u001b[1;32m~\\SLAC\\botorch-bax\\botorch\\optim\\initializers.py\u001b[0m in \u001b[0;36mgen_batch_initial_conditions\u001b[1;34m(acq_function, bounds, q, num_restarts, raw_samples, fixed_features, options, inequality_constraints, equality_constraints)\u001b[0m\n\u001b[0;32m    191\u001b[0m                 \u001b[1;32mwhile\u001b[0m \u001b[0mstart_idx\u001b[0m \u001b[1;33m<\u001b[0m \u001b[0mX_rnd\u001b[0m\u001b[1;33m.\u001b[0m\u001b[0mshape\u001b[0m\u001b[1;33m[\u001b[0m\u001b[1;36m0\u001b[0m\u001b[1;33m]\u001b[0m\u001b[1;33m:\u001b[0m\u001b[1;33m\u001b[0m\u001b[1;33m\u001b[0m\u001b[0m\n\u001b[0;32m    192\u001b[0m                     \u001b[0mend_idx\u001b[0m \u001b[1;33m=\u001b[0m \u001b[0mmin\u001b[0m\u001b[1;33m(\u001b[0m\u001b[0mstart_idx\u001b[0m \u001b[1;33m+\u001b[0m \u001b[0mbatch_limit\u001b[0m\u001b[1;33m,\u001b[0m \u001b[0mX_rnd\u001b[0m\u001b[1;33m.\u001b[0m\u001b[0mshape\u001b[0m\u001b[1;33m[\u001b[0m\u001b[1;36m0\u001b[0m\u001b[1;33m]\u001b[0m\u001b[1;33m)\u001b[0m\u001b[1;33m\u001b[0m\u001b[1;33m\u001b[0m\u001b[0m\n\u001b[1;32m--> 193\u001b[1;33m                     Y_rnd_curr = acq_function(\n\u001b[0m\u001b[0;32m    194\u001b[0m                         \u001b[0mX_rnd\u001b[0m\u001b[1;33m[\u001b[0m\u001b[0mstart_idx\u001b[0m\u001b[1;33m:\u001b[0m\u001b[0mend_idx\u001b[0m\u001b[1;33m]\u001b[0m\u001b[1;33m.\u001b[0m\u001b[0mto\u001b[0m\u001b[1;33m(\u001b[0m\u001b[0mdevice\u001b[0m\u001b[1;33m=\u001b[0m\u001b[0mdevice\u001b[0m\u001b[1;33m)\u001b[0m\u001b[1;33m\u001b[0m\u001b[1;33m\u001b[0m\u001b[0m\n\u001b[0;32m    195\u001b[0m                     ).cpu()\n",
      "\u001b[1;32m~\\Anaconda3\\envs\\BOTORCH\\lib\\site-packages\\torch\\nn\\modules\\module.py\u001b[0m in \u001b[0;36m_call_impl\u001b[1;34m(self, *input, **kwargs)\u001b[0m\n\u001b[0;32m   1128\u001b[0m         if not (self._backward_hooks or self._forward_hooks or self._forward_pre_hooks or _global_backward_hooks\n\u001b[0;32m   1129\u001b[0m                 or _global_forward_hooks or _global_forward_pre_hooks):\n\u001b[1;32m-> 1130\u001b[1;33m             \u001b[1;32mreturn\u001b[0m \u001b[0mforward_call\u001b[0m\u001b[1;33m(\u001b[0m\u001b[1;33m*\u001b[0m\u001b[0minput\u001b[0m\u001b[1;33m,\u001b[0m \u001b[1;33m**\u001b[0m\u001b[0mkwargs\u001b[0m\u001b[1;33m)\u001b[0m\u001b[1;33m\u001b[0m\u001b[1;33m\u001b[0m\u001b[0m\n\u001b[0m\u001b[0;32m   1131\u001b[0m         \u001b[1;31m# Do not call functions when jit is used\u001b[0m\u001b[1;33m\u001b[0m\u001b[1;33m\u001b[0m\u001b[0m\n\u001b[0;32m   1132\u001b[0m         \u001b[0mfull_backward_hooks\u001b[0m\u001b[1;33m,\u001b[0m \u001b[0mnon_full_backward_hooks\u001b[0m \u001b[1;33m=\u001b[0m \u001b[1;33m[\u001b[0m\u001b[1;33m]\u001b[0m\u001b[1;33m,\u001b[0m \u001b[1;33m[\u001b[0m\u001b[1;33m]\u001b[0m\u001b[1;33m\u001b[0m\u001b[1;33m\u001b[0m\u001b[0m\n",
      "\u001b[1;32m~\\SLAC\\botorch-bax\\emitutils.py\u001b[0m in \u001b[0;36mforward\u001b[1;34m(self, x)\u001b[0m\n\u001b[0;32m    113\u001b[0m         \u001b[1;31m#need to wrap for botorch batching\u001b[0m\u001b[1;33m\u001b[0m\u001b[1;33m\u001b[0m\u001b[0m\n\u001b[0;32m    114\u001b[0m         \u001b[0mprint\u001b[0m\u001b[1;33m(\u001b[0m\u001b[0mx\u001b[0m\u001b[1;33m.\u001b[0m\u001b[0mshape\u001b[0m\u001b[1;33m)\u001b[0m\u001b[1;33m\u001b[0m\u001b[1;33m\u001b[0m\u001b[0m\n\u001b[1;32m--> 115\u001b[1;33m         \u001b[1;32mreturn\u001b[0m \u001b[0msum_samplewise_emittance_flat_X_botorch\u001b[0m\u001b[1;33m(\u001b[0m\u001b[0mself\u001b[0m\u001b[1;33m.\u001b[0m\u001b[0mpost_paths\u001b[0m\u001b[1;33m,\u001b[0m \u001b[0mself\u001b[0m\u001b[1;33m.\u001b[0m\u001b[0mn_samples\u001b[0m\u001b[1;33m,\u001b[0m \u001b[0mx\u001b[0m\u001b[1;33m,\u001b[0m \u001b[0mself\u001b[0m\u001b[1;33m.\u001b[0m\u001b[0mX_meas\u001b[0m\u001b[1;33m)\u001b[0m\u001b[1;33m\u001b[0m\u001b[1;33m\u001b[0m\u001b[0m\n\u001b[0m\u001b[0;32m    116\u001b[0m \u001b[1;33m\u001b[0m\u001b[0m\n\u001b[0;32m    117\u001b[0m \u001b[1;33m\u001b[0m\u001b[0m\n",
      "\u001b[1;32m~\\SLAC\\botorch-bax\\emitutils.py\u001b[0m in \u001b[0;36msum_samplewise_emittance_flat_X_botorch\u001b[1;34m(post_paths, n_samples, X_tuning_input, X_meas)\u001b[0m\n\u001b[0;32m    137\u001b[0m     \u001b[0mX_tuning\u001b[0m \u001b[1;33m=\u001b[0m \u001b[0mX_tuning_input\u001b[0m\u001b[1;33m.\u001b[0m\u001b[0mdouble\u001b[0m\u001b[1;33m(\u001b[0m\u001b[1;33m)\u001b[0m\u001b[1;33m.\u001b[0m\u001b[0mreshape\u001b[0m\u001b[1;33m(\u001b[0m\u001b[1;33m*\u001b[0m\u001b[0mX_tuning_input\u001b[0m\u001b[1;33m.\u001b[0m\u001b[0mshape\u001b[0m\u001b[1;33m[\u001b[0m\u001b[1;33m:\u001b[0m\u001b[1;33m-\u001b[0m\u001b[1;36m2\u001b[0m\u001b[1;33m]\u001b[0m\u001b[1;33m,\u001b[0m\u001b[0mn_samples\u001b[0m\u001b[1;33m,\u001b[0m\u001b[1;33m-\u001b[0m\u001b[1;36m1\u001b[0m\u001b[1;33m)\u001b[0m\u001b[1;33m\u001b[0m\u001b[1;33m\u001b[0m\u001b[0m\n\u001b[0;32m    138\u001b[0m \u001b[1;33m\u001b[0m\u001b[0m\n\u001b[1;32m--> 139\u001b[1;33m     \u001b[1;32mreturn\u001b[0m \u001b[0mtorch\u001b[0m\u001b[1;33m.\u001b[0m\u001b[0msum\u001b[0m\u001b[1;33m(\u001b[0m\u001b[0mpost_emit_batched_input\u001b[0m\u001b[1;33m(\u001b[0m\u001b[0mpost_paths\u001b[0m\u001b[1;33m,\u001b[0m \u001b[0mX_tuning\u001b[0m\u001b[1;33m,\u001b[0m \u001b[0mX_meas\u001b[0m\u001b[1;33m,\u001b[0m \u001b[0msamplewise\u001b[0m\u001b[1;33m=\u001b[0m\u001b[1;32mTrue\u001b[0m\u001b[1;33m,\u001b[0m \u001b[0msquared\u001b[0m\u001b[1;33m=\u001b[0m\u001b[1;32mTrue\u001b[0m\u001b[1;33m)\u001b[0m\u001b[1;33m)\u001b[0m\u001b[1;33m\u001b[0m\u001b[1;33m\u001b[0m\u001b[0m\n\u001b[0m\u001b[0;32m    140\u001b[0m \u001b[1;33m\u001b[0m\u001b[0m\n\u001b[0;32m    141\u001b[0m \u001b[1;32mdef\u001b[0m \u001b[0msum_samplewise_emittance_flat_X\u001b[0m\u001b[1;33m(\u001b[0m\u001b[0mpost_paths\u001b[0m\u001b[1;33m,\u001b[0m \u001b[0mn_samples\u001b[0m\u001b[1;33m,\u001b[0m \u001b[0mX_tuning_flat\u001b[0m\u001b[1;33m,\u001b[0m \u001b[0mX_meas\u001b[0m\u001b[1;33m)\u001b[0m\u001b[1;33m:\u001b[0m\u001b[1;33m\u001b[0m\u001b[1;33m\u001b[0m\u001b[0m\n",
      "\u001b[1;32m~\\SLAC\\botorch-bax\\emitutils.py\u001b[0m in \u001b[0;36mpost_emit_batched_input\u001b[1;34m(post_paths, X_tuning, X_meas, samplewise, squared)\u001b[0m\n\u001b[0;32m    172\u001b[0m     \u001b[0mxs\u001b[0m \u001b[1;33m=\u001b[0m \u001b[0mtorch\u001b[0m\u001b[1;33m.\u001b[0m\u001b[0mcat\u001b[0m\u001b[1;33m(\u001b[0m\u001b[1;33m(\u001b[0m\u001b[0mxs_tuning\u001b[0m\u001b[1;33m,\u001b[0m \u001b[0mX_meas_repeated\u001b[0m\u001b[1;33m)\u001b[0m\u001b[1;33m,\u001b[0m \u001b[0mdim\u001b[0m\u001b[1;33m=\u001b[0m\u001b[1;33m-\u001b[0m\u001b[1;36m1\u001b[0m\u001b[1;33m)\u001b[0m\u001b[1;33m\u001b[0m\u001b[1;33m\u001b[0m\u001b[0m\n\u001b[0;32m    173\u001b[0m     \u001b[0mprint\u001b[0m\u001b[1;33m(\u001b[0m\u001b[1;34m'xs.shape ='\u001b[0m\u001b[1;33m,\u001b[0m \u001b[0mxs\u001b[0m\u001b[1;33m.\u001b[0m\u001b[0mshape\u001b[0m\u001b[1;33m)\u001b[0m\u001b[1;33m\u001b[0m\u001b[1;33m\u001b[0m\u001b[0m\n\u001b[1;32m--> 174\u001b[1;33m     \u001b[0mys\u001b[0m \u001b[1;33m=\u001b[0m \u001b[0mpost_paths\u001b[0m\u001b[1;33m(\u001b[0m\u001b[0mxs\u001b[0m\u001b[1;33m)\u001b[0m \u001b[1;31m#ys will be shape nsamples x (n_tuning_configs*n_steps_quad_scan)\u001b[0m\u001b[1;33m\u001b[0m\u001b[1;33m\u001b[0m\u001b[0m\n\u001b[0m\u001b[0;32m    175\u001b[0m     \u001b[0mprint\u001b[0m\u001b[1;33m(\u001b[0m\u001b[1;34m'ys.shape ='\u001b[0m\u001b[1;33m,\u001b[0m \u001b[0mys\u001b[0m\u001b[1;33m.\u001b[0m\u001b[0mshape\u001b[0m\u001b[1;33m)\u001b[0m\u001b[1;33m\u001b[0m\u001b[1;33m\u001b[0m\u001b[0m\n\u001b[0;32m    176\u001b[0m     \u001b[0mn_samples\u001b[0m \u001b[1;33m=\u001b[0m \u001b[0mys\u001b[0m\u001b[1;33m.\u001b[0m\u001b[0mshape\u001b[0m\u001b[1;33m[\u001b[0m\u001b[1;33m-\u001b[0m\u001b[1;36m2\u001b[0m\u001b[1;33m]\u001b[0m\u001b[1;33m\u001b[0m\u001b[1;33m\u001b[0m\u001b[0m\n",
      "\u001b[1;32m~\\SLAC\\botorch-bax\\samplingutils.py\u001b[0m in \u001b[0;36mpost_paths\u001b[1;34m(xs)\u001b[0m\n\u001b[0;32m    115\u001b[0m         \u001b[0mv_t\u001b[0m \u001b[1;33m=\u001b[0m \u001b[0mv\u001b[0m\u001b[1;33m.\u001b[0m\u001b[0mtranspose\u001b[0m\u001b[1;33m(\u001b[0m\u001b[1;36m1\u001b[0m\u001b[1;33m,\u001b[0m\u001b[1;36m2\u001b[0m\u001b[1;33m)\u001b[0m\u001b[1;33m\u001b[0m\u001b[1;33m\u001b[0m\u001b[0m\n\u001b[0;32m    116\u001b[0m \u001b[1;33m\u001b[0m\u001b[0m\n\u001b[1;32m--> 117\u001b[1;33m         \u001b[0mupdate\u001b[0m \u001b[1;33m=\u001b[0m \u001b[0mtorch\u001b[0m\u001b[1;33m.\u001b[0m\u001b[0mmatmul\u001b[0m\u001b[1;33m(\u001b[0m\u001b[0mv_t\u001b[0m\u001b[1;33m,\u001b[0m \u001b[0mK_update\u001b[0m\u001b[1;33m)\u001b[0m\u001b[1;33m\u001b[0m\u001b[1;33m\u001b[0m\u001b[0m\n\u001b[0m\u001b[0;32m    118\u001b[0m         \u001b[0mupdate\u001b[0m \u001b[1;33m=\u001b[0m \u001b[0mupdate\u001b[0m\u001b[1;33m.\u001b[0m\u001b[0mreshape\u001b[0m\u001b[1;33m(\u001b[0m\u001b[0mn_samples\u001b[0m\u001b[1;33m,\u001b[0m\u001b[1;33m-\u001b[0m\u001b[1;36m1\u001b[0m\u001b[1;33m)\u001b[0m\u001b[1;33m\u001b[0m\u001b[1;33m\u001b[0m\u001b[0m\n\u001b[0;32m    119\u001b[0m \u001b[1;33m\u001b[0m\u001b[0m\n",
      "\u001b[1;32m~\\Anaconda3\\envs\\BOTORCH\\lib\\site-packages\\linear_operator\\operators\\_linear_operator.py\u001b[0m in \u001b[0;36m__torch_function__\u001b[1;34m(cls, func, types, args, kwargs)\u001b[0m\n\u001b[0;32m   2704\u001b[0m             \u001b[1;31m# As a result, we will call the subclass method (when applicable) rather than the superclass method\u001b[0m\u001b[1;33m\u001b[0m\u001b[1;33m\u001b[0m\u001b[0m\n\u001b[0;32m   2705\u001b[0m             \u001b[0mfunc\u001b[0m \u001b[1;33m=\u001b[0m \u001b[0mgetattr\u001b[0m\u001b[1;33m(\u001b[0m\u001b[0mcls\u001b[0m\u001b[1;33m,\u001b[0m \u001b[0m_HANDLED_SECOND_ARG_FUNCTIONS\u001b[0m\u001b[1;33m[\u001b[0m\u001b[0mfunc\u001b[0m\u001b[1;33m]\u001b[0m\u001b[1;33m)\u001b[0m\u001b[1;33m\u001b[0m\u001b[1;33m\u001b[0m\u001b[0m\n\u001b[1;32m-> 2706\u001b[1;33m             \u001b[1;32mreturn\u001b[0m \u001b[0mfunc\u001b[0m\u001b[1;33m(\u001b[0m\u001b[0margs\u001b[0m\u001b[1;33m[\u001b[0m\u001b[1;36m1\u001b[0m\u001b[1;33m]\u001b[0m\u001b[1;33m,\u001b[0m \u001b[0margs\u001b[0m\u001b[1;33m[\u001b[0m\u001b[1;36m0\u001b[0m\u001b[1;33m]\u001b[0m\u001b[1;33m,\u001b[0m \u001b[1;33m*\u001b[0m\u001b[0margs\u001b[0m\u001b[1;33m[\u001b[0m\u001b[1;36m2\u001b[0m\u001b[1;33m:\u001b[0m\u001b[1;33m]\u001b[0m\u001b[1;33m,\u001b[0m \u001b[1;33m**\u001b[0m\u001b[0mkwargs\u001b[0m\u001b[1;33m)\u001b[0m\u001b[1;33m\u001b[0m\u001b[1;33m\u001b[0m\u001b[0m\n\u001b[0m\u001b[0;32m   2707\u001b[0m         \u001b[1;32melse\u001b[0m\u001b[1;33m:\u001b[0m\u001b[1;33m\u001b[0m\u001b[1;33m\u001b[0m\u001b[0m\n\u001b[0;32m   2708\u001b[0m             \u001b[1;32mif\u001b[0m \u001b[0mfunc\u001b[0m \u001b[1;32mnot\u001b[0m \u001b[1;32min\u001b[0m \u001b[0m_HANDLED_FUNCTIONS\u001b[0m \u001b[1;32mor\u001b[0m \u001b[1;32mnot\u001b[0m \u001b[0mall\u001b[0m\u001b[1;33m(\u001b[0m\u001b[0missubclass\u001b[0m\u001b[1;33m(\u001b[0m\u001b[0mt\u001b[0m\u001b[1;33m,\u001b[0m \u001b[1;33m(\u001b[0m\u001b[0mtorch\u001b[0m\u001b[1;33m.\u001b[0m\u001b[0mTensor\u001b[0m\u001b[1;33m,\u001b[0m \u001b[0mLinearOperator\u001b[0m\u001b[1;33m)\u001b[0m\u001b[1;33m)\u001b[0m \u001b[1;32mfor\u001b[0m \u001b[0mt\u001b[0m \u001b[1;32min\u001b[0m \u001b[0mtypes\u001b[0m\u001b[1;33m)\u001b[0m\u001b[1;33m:\u001b[0m\u001b[1;33m\u001b[0m\u001b[1;33m\u001b[0m\u001b[0m\n",
      "\u001b[1;32m~\\Anaconda3\\envs\\BOTORCH\\lib\\site-packages\\linear_operator\\operators\\_linear_operator.py\u001b[0m in \u001b[0;36mrmatmul\u001b[1;34m(self, other)\u001b[0m\n\u001b[0;32m   1977\u001b[0m         \u001b[1;32mif\u001b[0m \u001b[0mother\u001b[0m\u001b[1;33m.\u001b[0m\u001b[0mndim\u001b[0m \u001b[1;33m==\u001b[0m \u001b[1;36m1\u001b[0m\u001b[1;33m:\u001b[0m\u001b[1;33m\u001b[0m\u001b[1;33m\u001b[0m\u001b[0m\n\u001b[0;32m   1978\u001b[0m             \u001b[1;32mreturn\u001b[0m \u001b[0mself\u001b[0m\u001b[1;33m.\u001b[0m\u001b[0mmT\u001b[0m\u001b[1;33m.\u001b[0m\u001b[0mmatmul\u001b[0m\u001b[1;33m(\u001b[0m\u001b[0mother\u001b[0m\u001b[1;33m)\u001b[0m\u001b[1;33m\u001b[0m\u001b[1;33m\u001b[0m\u001b[0m\n\u001b[1;32m-> 1979\u001b[1;33m         \u001b[1;32mreturn\u001b[0m \u001b[0mself\u001b[0m\u001b[1;33m.\u001b[0m\u001b[0mmT\u001b[0m\u001b[1;33m.\u001b[0m\u001b[0mmatmul\u001b[0m\u001b[1;33m(\u001b[0m\u001b[0mother\u001b[0m\u001b[1;33m.\u001b[0m\u001b[0mmT\u001b[0m\u001b[1;33m)\u001b[0m\u001b[1;33m.\u001b[0m\u001b[0mmT\u001b[0m\u001b[1;33m\u001b[0m\u001b[1;33m\u001b[0m\u001b[0m\n\u001b[0m\u001b[0;32m   1980\u001b[0m \u001b[1;33m\u001b[0m\u001b[0m\n\u001b[0;32m   1981\u001b[0m     \u001b[1;33m@\u001b[0m\u001b[0mcached\u001b[0m\u001b[1;33m(\u001b[0m\u001b[0mname\u001b[0m\u001b[1;33m=\u001b[0m\u001b[1;34m\"root_decomposition\"\u001b[0m\u001b[1;33m)\u001b[0m\u001b[1;33m\u001b[0m\u001b[1;33m\u001b[0m\u001b[0m\n",
      "\u001b[1;32m~\\Anaconda3\\envs\\BOTORCH\\lib\\site-packages\\linear_operator\\operators\\_linear_operator.py\u001b[0m in \u001b[0;36mmatmul\u001b[1;34m(self, other)\u001b[0m\n\u001b[0;32m   1706\u001b[0m         \"\"\"\n\u001b[0;32m   1707\u001b[0m         \u001b[1;31m# TODO: Move this check to MatmulLinearOperator and Matmul (so we can pass the shapes through from there)\u001b[0m\u001b[1;33m\u001b[0m\u001b[1;33m\u001b[0m\u001b[0m\n\u001b[1;32m-> 1708\u001b[1;33m         \u001b[0m_matmul_broadcast_shape\u001b[0m\u001b[1;33m(\u001b[0m\u001b[0mself\u001b[0m\u001b[1;33m.\u001b[0m\u001b[0mshape\u001b[0m\u001b[1;33m,\u001b[0m \u001b[0mother\u001b[0m\u001b[1;33m.\u001b[0m\u001b[0mshape\u001b[0m\u001b[1;33m)\u001b[0m\u001b[1;33m\u001b[0m\u001b[1;33m\u001b[0m\u001b[0m\n\u001b[0m\u001b[0;32m   1709\u001b[0m \u001b[1;33m\u001b[0m\u001b[0m\n\u001b[0;32m   1710\u001b[0m         \u001b[1;32mif\u001b[0m \u001b[0misinstance\u001b[0m\u001b[1;33m(\u001b[0m\u001b[0mother\u001b[0m\u001b[1;33m,\u001b[0m \u001b[0mLinearOperator\u001b[0m\u001b[1;33m)\u001b[0m\u001b[1;33m:\u001b[0m\u001b[1;33m\u001b[0m\u001b[1;33m\u001b[0m\u001b[0m\n",
      "\u001b[1;32m~\\Anaconda3\\envs\\BOTORCH\\lib\\site-packages\\linear_operator\\utils\\broadcasting.py\u001b[0m in \u001b[0;36m_matmul_broadcast_shape\u001b[1;34m(shape_a, shape_b, error_msg)\u001b[0m\n\u001b[0;32m     25\u001b[0m \u001b[1;33m\u001b[0m\u001b[0m\n\u001b[0;32m     26\u001b[0m     \u001b[1;31m# Figure out batch shape\u001b[0m\u001b[1;33m\u001b[0m\u001b[1;33m\u001b[0m\u001b[0m\n\u001b[1;32m---> 27\u001b[1;33m     \u001b[0mbc_shape\u001b[0m \u001b[1;33m=\u001b[0m \u001b[0mtorch\u001b[0m\u001b[1;33m.\u001b[0m\u001b[0mbroadcast_shapes\u001b[0m\u001b[1;33m(\u001b[0m\u001b[0mshape_a\u001b[0m\u001b[1;33m[\u001b[0m\u001b[1;33m:\u001b[0m\u001b[1;33m-\u001b[0m\u001b[1;36m2\u001b[0m\u001b[1;33m]\u001b[0m\u001b[1;33m,\u001b[0m \u001b[0mshape_b\u001b[0m\u001b[1;33m[\u001b[0m\u001b[1;33m:\u001b[0m\u001b[1;33m-\u001b[0m\u001b[1;36m2\u001b[0m\u001b[1;33m]\u001b[0m\u001b[1;33m)\u001b[0m\u001b[1;33m\u001b[0m\u001b[1;33m\u001b[0m\u001b[0m\n\u001b[0m\u001b[0;32m     28\u001b[0m     \u001b[1;32mreturn\u001b[0m \u001b[0mbc_shape\u001b[0m \u001b[1;33m+\u001b[0m \u001b[0mtail_shape\u001b[0m\u001b[1;33m\u001b[0m\u001b[1;33m\u001b[0m\u001b[0m\n\u001b[0;32m     29\u001b[0m \u001b[1;33m\u001b[0m\u001b[0m\n",
      "\u001b[1;32m~\\Anaconda3\\envs\\BOTORCH\\lib\\site-packages\\torch\\functional.py\u001b[0m in \u001b[0;36mbroadcast_shapes\u001b[1;34m(*shapes)\u001b[0m\n\u001b[0;32m    123\u001b[0m                         \u001b[1;32mcontinue\u001b[0m\u001b[1;33m\u001b[0m\u001b[1;33m\u001b[0m\u001b[0m\n\u001b[0;32m    124\u001b[0m                     \u001b[1;32mif\u001b[0m \u001b[0mresult\u001b[0m\u001b[1;33m[\u001b[0m\u001b[0mi\u001b[0m\u001b[1;33m]\u001b[0m \u001b[1;33m!=\u001b[0m \u001b[1;36m1\u001b[0m\u001b[1;33m:\u001b[0m\u001b[1;33m\u001b[0m\u001b[1;33m\u001b[0m\u001b[0m\n\u001b[1;32m--> 125\u001b[1;33m                         \u001b[1;32mraise\u001b[0m \u001b[0mRuntimeError\u001b[0m\u001b[1;33m(\u001b[0m\u001b[1;34m\"Shape mismatch: objects cannot be broadcast to a single shape\"\u001b[0m\u001b[1;33m)\u001b[0m\u001b[1;33m\u001b[0m\u001b[1;33m\u001b[0m\u001b[0m\n\u001b[0m\u001b[0;32m    126\u001b[0m                     \u001b[0mresult\u001b[0m\u001b[1;33m[\u001b[0m\u001b[0mi\u001b[0m\u001b[1;33m]\u001b[0m \u001b[1;33m=\u001b[0m \u001b[0mshape\u001b[0m\u001b[1;33m[\u001b[0m\u001b[0mi\u001b[0m\u001b[1;33m]\u001b[0m\u001b[1;33m\u001b[0m\u001b[1;33m\u001b[0m\u001b[0m\n\u001b[0;32m    127\u001b[0m             \u001b[1;32melse\u001b[0m\u001b[1;33m:\u001b[0m\u001b[1;33m\u001b[0m\u001b[1;33m\u001b[0m\u001b[0m\n",
      "\u001b[1;31mRuntimeError\u001b[0m: Shape mismatch: objects cannot be broadcast to a single shape"
     ]
    }
   ],
   "source": [
    "#need to wrap the function for the emittance module forward pass so that it can handle a batch of flat tensor inputs\n",
    "\n",
    "emitmodule = EmittanceModule(post_paths, n_samples, X_meas)\n",
    "bounds = domain[:-1].repeat(n_samples,1).T\n",
    "Xinit = gen_batch_initial_conditions(\n",
    "        emitmodule, bounds, q=1, num_restarts=25, raw_samples=500\n",
    " )\n",
    "batch_candidates, batch_acq_values = gen_candidates_scipy(\n",
    "        initial_conditions=Xinit,\n",
    "        acquisition_function=emitmodule,\n",
    "        lower_bounds=bounds[0],\n",
    "        upper_bounds=bounds[1],\n",
    "            )"
   ]
  },
  {
   "cell_type": "code",
   "execution_count": null,
   "id": "52dee7f2",
   "metadata": {},
   "outputs": [],
   "source": []
  }
 ],
 "metadata": {
  "kernelspec": {
   "display_name": "Python 3 (ipykernel)",
   "language": "python",
   "name": "python3"
  },
  "language_info": {
   "codemirror_mode": {
    "name": "ipython",
    "version": 3
   },
   "file_extension": ".py",
   "mimetype": "text/x-python",
   "name": "python",
   "nbconvert_exporter": "python",
   "pygments_lexer": "ipython3",
   "version": "3.9.13"
  }
 },
 "nbformat": 4,
 "nbformat_minor": 5
}
