{
 "cells": [
  {
   "cell_type": "markdown",
   "metadata": {
    "customInput": null,
    "originalKey": "ff76ac16-8888-422c-9532-c1eb12d6088b",
    "showInput": false
   },
   "source": [
    "```\n",
    "Derivation:\n",
    "\n",
    "k([x, t], [x', t']) = k0(x, x') k1(t, t')\n",
    "                    ≈ [b0(x)^T b0(x')] [b1(t)^T b1(t')]\n",
    "                    = tr[b0(x) b0(x')^T] tr[b1(t) b1(t')^T]\n",
    "                    = tr[(b0(x) b0(x')^T) ⊗ (b1(t) b1(t')^T)]\n",
    "                    = tr[(b0(x) ⊗ b1(t)) (b0(x') ⊗ b1(t'))^T]\n",
    "                    = [b0(x) ⊗ b1(t)]^T [b0(x') ⊗ b1(t')],\n",
    "\n",
    "where ⊗ denotes the Kroncker product while b0 and b1 are (approximate) feature maps for kernels k0 and k1.\n",
    "```"
   ]
  },
  {
   "cell_type": "code",
   "execution_count": 1,
   "metadata": {
    "customInput": null,
    "customOutput": null,
    "executionStartTime": 1670613708573,
    "executionStopTime": 1670613737111,
    "originalKey": "3b91dee5-6e57-4f0c-86f9-b1a2e78ed565",
    "requestMsgId": "03138b60-c9c2-4508-a32d-41bef29e6f94",
    "showInput": true
   },
   "outputs": [],
   "source": [
    "from functools import partial\n",
    "\n",
    "import torch\n",
    "from botorch.sampling.pathwise import (\n",
    "    fourier_feature_initializer,\n",
    "    GeneralizedLinearBasis,\n",
    ")\n",
    "from gpytorch.kernels import MaternKernel, PolynomialKernel"
   ]
  },
  {
   "cell_type": "code",
   "execution_count": 2,
   "metadata": {
    "customInput": null,
    "customOutput": null,
    "executionStartTime": 1670613737276,
    "executionStopTime": 1670613737293,
    "originalKey": "e3c9b978-effb-42ab-bf24-bf1bf1dd77f9",
    "requestMsgId": "0993e7aa-206c-4730-bebc-248071c1397d",
    "showInput": true
   },
   "outputs": [],
   "source": [
    "torch.random.manual_seed(0)\n",
    "torch.set_default_dtype(torch.float64)"
   ]
  },
  {
   "cell_type": "code",
   "execution_count": 3,
   "metadata": {
    "customInput": null,
    "customOutput": null,
    "executionStartTime": 1670613737440,
    "executionStopTime": 1670613737453,
    "originalKey": "3978eccf-0728-4aab-8338-8ebeaaf7470a",
    "requestMsgId": "e1ed3b9d-8be2-4ce9-9fc0-73897235f5aa",
    "showInput": true
   },
   "outputs": [],
   "source": [
    "A = torch.rand(3, 3)\n",
    "B = torch.rand(3, 3)"
   ]
  },
  {
   "cell_type": "code",
   "execution_count": 4,
   "metadata": {
    "customInput": null,
    "customOutput": null,
    "executionStartTime": 1670613737604,
    "executionStopTime": 1670613737725,
    "originalKey": "7b1d1edb-6e5b-4a4a-8152-7b0230c67c45",
    "requestMsgId": "e997f48e-dc79-4141-a573-d72386096b8d",
    "showInput": true
   },
   "outputs": [
    {
     "data": {
      "text/plain": [
       "tensor([[0.4955, 0.5858, 0.5964],\n",
       "        [0.5510, 0.6342, 0.6615],\n",
       "        [0.9629, 0.8477, 0.8903]], grad_fn=<MaternCovarianceBackward>)"
      ]
     },
     "metadata": {},
     "output_type": "display_data"
    },
    {
     "data": {
      "text/plain": [
       "tensor([[0.4970, 0.5889, 0.5946],\n",
       "        [0.5530, 0.6367, 0.6592],\n",
       "        [0.9622, 0.8400, 0.8912]], grad_fn=<MmBackward0>)"
      ]
     },
     "metadata": {},
     "output_type": "display_data"
    }
   ],
   "source": [
    "matern_kernel = MaternKernel(nu=2.5)\n",
    "matern_basis = GeneralizedLinearBasis(\n",
    "    initializer=partial(fourier_feature_initializer, kernel=matern_kernel),\n",
    "    output_shape=torch.Size([1024]), \n",
    ")\n",
    "display(matern_kernel(A[..., :-1], B[..., :-1]).to_dense())\n",
    "display(matern_basis(A[..., :-1]) @ matern_basis(B[..., :-1]).T)"
   ]
  },
  {
   "cell_type": "code",
   "execution_count": 5,
   "metadata": {
    "customOutput": null,
    "executionStartTime": 1670613737875,
    "executionStopTime": 1670613737922,
    "originalKey": "9c5d91d2-af15-421b-866b-b327b83edae2",
    "requestMsgId": "e7e2b47e-85c1-4700-946d-583ad3b5de8d"
   },
   "outputs": [
    {
     "data": {
      "text/plain": [
       "tensor([[0.5996, 0.8363, 0.6202],\n",
       "        [0.6939, 1.1543, 0.7322],\n",
       "        [0.6335, 0.9472, 0.6603]], grad_fn=<PowBackward0>)"
      ]
     },
     "metadata": {},
     "output_type": "display_data"
    },
    {
     "data": {
      "text/plain": [
       "tensor([[0.5996, 0.8363, 0.6202],\n",
       "        [0.6939, 1.1543, 0.7322],\n",
       "        [0.6335, 0.9472, 0.6603]], grad_fn=<MmBackward0>)"
      ]
     },
     "metadata": {},
     "output_type": "display_data"
    }
   ],
   "source": [
    "quad_kernel = PolynomialKernel(power=2)\n",
    "\n",
    "def quad_basis(x, kernel=quad_kernel):\n",
    "    c = kernel.offset\n",
    "    return torch.concat([x * x, (2 * c).sqrt() * x, c.expand(*x.shape)], dim=-1)\n",
    "\n",
    "display(quad_kernel(A[..., -1:], B[..., -1:]).to_dense())\n",
    "display(quad_basis(A[..., -1:]) @ quad_basis(B[..., -1:]).T)"
   ]
  },
  {
   "cell_type": "code",
   "execution_count": 6,
   "metadata": {
    "customInput": null,
    "customOutput": null,
    "executionStartTime": 1670613738083,
    "executionStopTime": 1670613738100,
    "originalKey": "facfb553-94b8-4197-a398-1c0f4e729e18",
    "requestMsgId": "d7adf8d6-84f2-4816-b423-b8b8d645c892",
    "showInput": true
   },
   "outputs": [
    {
     "data": {
      "text/plain": [
       "tensor([[0.2971, 0.4899, 0.3699],\n",
       "        [0.3824, 0.7320, 0.4843],\n",
       "        [0.6100, 0.8030, 0.5878]], grad_fn=<MulBackward0>)"
      ]
     },
     "execution_count": 6,
     "metadata": {},
     "output_type": "execute_result"
    }
   ],
   "source": [
    "K = (matern_kernel(A[..., :-1], B[..., :-1]) * quad_kernel(A[..., -1:], B[..., -1:])).to_dense()\n",
    "K"
   ]
  },
  {
   "cell_type": "code",
   "execution_count": 7,
   "metadata": {
    "customInput": null,
    "customOutput": null,
    "executionStartTime": 1670613738286,
    "executionStopTime": 1670613738333,
    "originalKey": "757ec33c-b6ac-4493-b330-b8cf6ee02645",
    "requestMsgId": "d316462a-d48b-4eed-bd07-f73c4439c4ca",
    "showInput": true
   },
   "outputs": [
    {
     "data": {
      "text/plain": [
       "tensor([[0.2980, 0.4925, 0.3688],\n",
       "        [0.3837, 0.7349, 0.4826],\n",
       "        [0.6096, 0.7957, 0.5884]], grad_fn=<MmBackward0>)"
      ]
     },
     "execution_count": 7,
     "metadata": {},
     "output_type": "execute_result"
    }
   ],
   "source": [
    "def product_basis(x):\n",
    "    matern_features = matern_basis(x[..., :-1])\n",
    "    quad_features = quad_basis(x[..., -1:])\n",
    "    return (matern_features.unsqueeze(-1) * quad_features.unsqueeze(-2)).view(*x.shape[:-1], -1)\n",
    "\n",
    "K_est = product_basis(A) @ product_basis(B).T\n",
    "K_est"
   ]
  },
  {
   "cell_type": "code",
   "execution_count": null,
   "metadata": {},
   "outputs": [],
   "source": []
  }
 ],
 "metadata": {
  "bento_stylesheets": {
   "bento/extensions/flow/main.css": true,
   "bento/extensions/kernel_selector/main.css": true,
   "bento/extensions/kernel_ui/main.css": true,
   "bento/extensions/new_kernel/main.css": true,
   "bento/extensions/system_usage/main.css": true,
   "bento/extensions/theme/main.css": true
  },
  "captumWidgetMessage": {},
  "dataExplorerConfig": {},
  "kernelspec": {
   "display_name": "Python 3 (ipykernel)",
   "language": "python",
   "name": "python3"
  },
  "language_info": {
   "codemirror_mode": {
    "name": "ipython",
    "version": 3
   },
   "file_extension": ".py",
   "mimetype": "text/x-python",
   "name": "python",
   "nbconvert_exporter": "python",
   "pygments_lexer": "ipython3",
   "version": "3.9.13"
  },
  "last_base_url": "https://23744.od.fbinfra.net:443/",
  "last_kernel_id": "b754e262-8ab4-4bb7-bf59-311f78e41c56",
  "last_msg_id": "53db8d3b-048bb8974b3ca042b2885a03_54",
  "last_server_session_id": "354eafd1-a5d4-42f4-b970-55aac4a3c4ba",
  "outputWidgetContext": {}
 },
 "nbformat": 4,
 "nbformat_minor": 2
}
